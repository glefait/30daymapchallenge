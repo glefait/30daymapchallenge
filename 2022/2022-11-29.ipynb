{
 "cells": [
  {
   "cell_type": "code",
   "execution_count": 1,
   "id": "41cb63db",
   "metadata": {},
   "outputs": [],
   "source": [
    "import pandas as pd"
   ]
  },
  {
   "cell_type": "code",
   "execution_count": 2,
   "id": "71c83169",
   "metadata": {},
   "outputs": [],
   "source": [
    "dfs = []\n",
    "for file in [\n",
    "    'https://www.data.gouv.fr/fr/datasets/r/85cfdc0c-23e4-4674-9bcd-79a970d7269b', # 2021\n",
    "    'https://www.data.gouv.fr/fr/datasets/r/07a88205-83c1-4123-a993-cba5331e8ae0', # 2020\n",
    "    'https://www.data.gouv.fr/fr/datasets/r/e22ba475-45a3-46ac-a0f7-9ca9ed1e283a', # 2019\n",
    "    'https://www.data.gouv.fr/fr/datasets/r/6eee0852-cbd7-447e-bd70-37c433029405', # 2018\n",
    "    'https://www.data.gouv.fr/fr/datasets/r/9a7d408b-dd72-4959-ae7d-c854ec505354', # 2017\n",
    "]:\n",
    "    try:\n",
    "        df = pd.read_csv(file, sep=\";\")\n",
    "    except:\n",
    "        try:\n",
    "            df = pd.read_csv(file, sep=\",\", encoding = \"ISO-8859-1\")\n",
    "        except:\n",
    "            print(f'problem with {file}')\n",
    "            continue\n",
    "    df = df.loc[df.dep == '972'].rename(columns={'long':'lng'})[['lng', 'lat']]\n",
    "    df = df.dropna()\n",
    "    df['lat'] = df.lat.astype(str).str.replace(',', '.').astype(float)\n",
    "    df['lng'] = df.lng.astype(str).str.replace(',', '.').astype(float)\n",
    "    dfs.append(df)\n",
    "pd.concat(dfs).to_csv('data/accidents.csv', index=False)"
   ]
  }
 ],
 "metadata": {
  "kernelspec": {
   "display_name": "Python 3 (ipykernel)",
   "language": "python",
   "name": "python3"
  },
  "language_info": {
   "codemirror_mode": {
    "name": "ipython",
    "version": 3
   },
   "file_extension": ".py",
   "mimetype": "text/x-python",
   "name": "python",
   "nbconvert_exporter": "python",
   "pygments_lexer": "ipython3",
   "version": "3.9.7"
  }
 },
 "nbformat": 4,
 "nbformat_minor": 5
}
