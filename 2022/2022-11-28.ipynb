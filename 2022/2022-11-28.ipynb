{
 "cells": [
  {
   "cell_type": "code",
   "execution_count": 1,
   "id": "41cb63db",
   "metadata": {},
   "outputs": [
    {
     "name": "stderr",
     "output_type": "stream",
     "text": [
      "/home/glefait/.virtualenvs/notebooks/lib/python3.9/site-packages/scipy/__init__.py:146: UserWarning: A NumPy version >=1.16.5 and <1.23.0 is required for this version of SciPy (detected version 1.23.4\n",
      "  warnings.warn(f\"A NumPy version >={np_minversion} and <{np_maxversion}\"\n"
     ]
    }
   ],
   "source": [
    "import prettymaps\n",
    "import pandas as pd\n",
    "import json\n",
    "import numpy as np\n",
    "import geopandas as gpd\n",
    "from matplotlib import pyplot as plt\n",
    "from shapely.geometry import LineString, Point, Polygon\n",
    "import datetime\n",
    "import itertools\n",
    "import os\n",
    "import glob\n",
    "from shapely.geometry import MultiPolygon, Polygon, Point, MultiPoint, LineString\n",
    "from shapely.ops import split\n",
    "from pyproj import Geod\n",
    "import requests\n",
    "import time\n",
    "\n",
    "from PIL import Image"
   ]
  },
  {
   "cell_type": "code",
   "execution_count": 2,
   "id": "71c83169",
   "metadata": {},
   "outputs": [
    {
     "name": "stdout",
     "output_type": "stream",
     "text": [
      "Requirement already satisfied: rpy2 in /home/glefait/.virtualenvs/notebooks/lib/python3.9/site-packages (3.5.6)\n",
      "Requirement already satisfied: tzlocal in /home/glefait/.virtualenvs/notebooks/lib/python3.9/site-packages (from rpy2) (4.1)\n",
      "Requirement already satisfied: pytz in /home/glefait/.virtualenvs/notebooks/lib/python3.9/site-packages (from rpy2) (2021.3)\n",
      "Requirement already satisfied: cffi>=1.10.0 in /home/glefait/.virtualenvs/notebooks/lib/python3.9/site-packages (from rpy2) (1.15.0)\n",
      "Requirement already satisfied: jinja2 in /home/glefait/.virtualenvs/notebooks/lib/python3.9/site-packages (from rpy2) (3.1.2)\n",
      "Requirement already satisfied: pycparser in /home/glefait/.virtualenvs/notebooks/lib/python3.9/site-packages (from cffi>=1.10.0->rpy2) (2.20)\n",
      "Requirement already satisfied: MarkupSafe>=2.0 in /home/glefait/.virtualenvs/notebooks/lib/python3.9/site-packages (from jinja2->rpy2) (2.0.1)\n",
      "Requirement already satisfied: pytz-deprecation-shim in /home/glefait/.virtualenvs/notebooks/lib/python3.9/site-packages (from tzlocal->rpy2) (0.1.0.post0)\n",
      "Requirement already satisfied: tzdata in /home/glefait/.virtualenvs/notebooks/lib/python3.9/site-packages (from pytz-deprecation-shim->tzlocal->rpy2) (2021.5)\n",
      "\u001b[33mWARNING: There was an error checking the latest version of pip.\u001b[0m\u001b[33m\n",
      "\u001b[0mNote: you may need to restart the kernel to use updated packages.\n"
     ]
    }
   ],
   "source": [
    "%pip install rpy2"
   ]
  },
  {
   "cell_type": "code",
   "execution_count": 3,
   "id": "2f9a9c92",
   "metadata": {},
   "outputs": [],
   "source": [
    "import rpy2\n",
    "import tempfile\n",
    "\n",
    "import matplotlib.pyplot as plt\n",
    "import numpy as np\n",
    "import rasterio as rio\n",
    "import rpy2.robjects as ro\n",
    "import rpy2.robjects.numpy2ri\n",
    "import rpy2.robjects.packages as rpackages\n",
    "\n",
    "rpy2.robjects.numpy2ri.activate()"
   ]
  },
  {
   "cell_type": "code",
   "execution_count": 4,
   "id": "43ee49fe",
   "metadata": {},
   "outputs": [
    {
     "name": "stdout",
     "output_type": "stream",
     "text": [
      "0...10...20...30...40...50...60...70...80...90...100 - done.\n",
      "Input file size is 3201, 3200\n",
      "0...10...20...30...40...50...60...70...80...90...100 - done.\n"
     ]
    },
    {
     "data": {
      "text/plain": [
       "<matplotlib.image.AxesImage at 0x7f4aa0d9ec70>"
      ]
     },
     "execution_count": 4,
     "metadata": {},
     "output_type": "execute_result"
    },
    {
     "data": {
      "image/png": "[encoded data removed]",
      "text/plain": [
       "<Figure size 432x288 with 1 Axes>"
      ]
     },
     "metadata": {
      "needs_background": "light"
     },
     "output_type": "display_data"
    }
   ],
   "source": [
    "!gdalbuildvrt \\\n",
    "    -te 700997, 1604000, 717000, 1620000 \\\n",
    "    -overwrite -a_srs \"EPSG:2154\" \\\n",
    "    data-tmp/my777d.vrt \\\n",
    "    data-tmp/RGEALTI_2-0_5M_ASC_WGS84UTM20-MART87_D972_2015-10-21/RGEALTI/1_DONNEES_LIVRAISON_2020-06-00373/RGEALTI_MNT_5M_ASC_WGS84UTM20_MART87_D972/RGEALTI_MTQ_*\n",
    "\n",
    "!gdal_translate -of GTiff -co \"TILED=YES\" -co COMPRESS=LZW -co BIGTIFF=YES -ot Float32 -a_srs \"EPSG:2154\" data-tmp/my777d.vrt data-tmp/my777d.tiff\n",
    "\n",
    "with rio.open(\"data-tmp/my777d.tiff\") as f:\n",
    "    z = f.read(1)\n",
    "    \n",
    "plt.imshow(z)"
   ]
  },
  {
   "cell_type": "code",
   "execution_count": 5,
   "id": "4749303e",
   "metadata": {},
   "outputs": [],
   "source": [
    "# transform -99999 into 0\n",
    "y = []\n",
    "i = 0\n",
    "for zz in z:\n",
    "    yy = [max(0, x) for x in zz][::-1]\n",
    "    y.append(yy)\n",
    "yy = np.array(y, dtype=np.float32)"
   ]
  },
  {
   "cell_type": "code",
   "execution_count": 8,
   "id": "d398e3bd",
   "metadata": {},
   "outputs": [],
   "source": [
    "def rayshade(z, img_path=None, zscale=10, fov=0, theta=45, zoom=0.75, phi=45, windowsize=(1000, 1000)):\n",
    "    \n",
    "    # Output path.\n",
    "    if not img_path:\n",
    "        img_path = tempfile.NamedTemporaryFile(suffix='.png').name\n",
    "    \n",
    "    # Import needed packages.\n",
    "    rayshader = rpackages.importr('rayshader')\n",
    "    \n",
    "    # Convert array to matrix.\n",
    "    z = np.asarray(z)\n",
    "    rows, cols = z.shape\n",
    "    z_mat = ro.r.matrix(z, nrow=rows, ncol=cols)\n",
    "    ro.globalenv['elmat'] = z_mat\n",
    "    \n",
    "    # Save python state to r.\n",
    "    ro.globalenv['img_path'] = img_path\n",
    "    ro.globalenv['zscale'] = zscale\n",
    "    ro.globalenv['fov'] = fov\n",
    "    ro.globalenv['theta'] = theta\n",
    "    ro.globalenv['zoom'] = zoom\n",
    "    ro.globalenv['phi'] = phi\n",
    "    ro.globalenv['windowsize'] = ro.IntVector(windowsize)\n",
    "    \n",
    "    # Do the render.\n",
    "    ro.r('''\n",
    "        elmat %>%\n",
    "          sphere_shade(texture = \"desert\") %>%\n",
    "          add_water(detect_water(elmat), color = \"desert\") %>%\n",
    "          add_shadow(ray_shade(elmat, zscale = 3), 0.5) %>%\n",
    "          add_shadow(ambient_shade(elmat), 0) %>%\n",
    "          plot_3d(elmat, zscale = zscale, fov = fov, theta = theta, zoom = zoom, phi = phi, windowsize = windowsize, baseshape = \"circle\")\n",
    "        Sys.sleep(0.2)\n",
    "        render_snapshot(img_path)\n",
    "    ''')\n",
    "    return img_path"
   ]
  },
  {
   "cell_type": "code",
   "execution_count": null,
   "id": "d51cda0b",
   "metadata": {},
   "outputs": [],
   "source": [
    "rayshade(yy, img_path=\"output/2022-11-28.png\")"
   ]
  }
 ],
 "metadata": {
  "kernelspec": {
   "display_name": "Python 3 (ipykernel)",
   "language": "python",
   "name": "python3"
  },
  "language_info": {
   "codemirror_mode": {
    "name": "ipython",
    "version": 3
   },
   "file_extension": ".py",
   "mimetype": "text/x-python",
   "name": "python",
   "nbconvert_exporter": "python",
   "pygments_lexer": "ipython3",
   "version": "3.9.7"
  }
 },
 "nbformat": 4,
 "nbformat_minor": 5
}
